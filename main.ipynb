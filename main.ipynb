{
 "cells": [
  {
   "cell_type": "code",
   "execution_count": 1,
   "metadata": {
    "collapsed": false
   },
   "outputs": [
    {
     "name": "stdout",
     "output_type": "stream",
     "text": [
      "Populating the interactive namespace from numpy and matplotlib\n"
     ]
    }
   ],
   "source": [
    "import tensorflow as tf\n",
    "import scipy.linalg as la\n",
    "from core.TensorflowState import TensorflowState\n",
    "from system.SystemParametersGeneral import SystemParametersGeneral\n",
    "from math_functions.c_to_r_mat import CtoRMat\n",
    "from runtime_functions.ConvergenceGeneral import ConvergenceGeneral\n",
    "from runtime_functions.run_session import run_session\n",
    "from math_functions.Get_state_index import Get_State_index\n",
    "\n",
    "%pylab inline\n",
    "import random as rd\n",
    "import time\n",
    "from IPython import display"
   ]
  },
  {
   "cell_type": "code",
   "execution_count": 2,
   "metadata": {
    "collapsed": true
   },
   "outputs": [],
   "source": [
    "'''\n",
    "qubit_pi\n",
    "two_modes_cnot\n",
    "'''\n",
    "Modulation = True\n",
    "Interpolation = True\n",
    "D = True\n",
    "simulation_system = \"qubit_pi\""
   ]
  },
  {
   "cell_type": "code",
   "execution_count": 3,
   "metadata": {
    "collapsed": false
   },
   "outputs": [],
   "source": [
    "if simulation_system == \"qubit_pi\":\n",
    "    class SystemParameters(SystemParametersGeneral):\n",
    "        \n",
    "        def __init__(self):\n",
    "            total_time = 5.0\n",
    "            SystemParametersGeneral.__init__(self,total_time, Modulation, Interpolation, D)\n",
    "            self.init_states()\n",
    "            \n",
    "            \n",
    "        def init_states(self):\n",
    "            self.g00=Get_State_index(0,self.dressed)\n",
    "            self.e00=Get_State_index(1,self.dressed)\n",
    "            #self.e00=Get_State_index(self.mode_state_num**2,self.dressed)\n",
    "            # concerned states\n",
    "            self.states_concerned_list = [0]\n",
    "            self.init_vectors()\n",
    "            \n",
    "            # Initialize initial and target states in numpy vector\n",
    "            \n",
    "            self.init_operators()\n",
    "            if D:\n",
    "                Ct_c= np.identity(self.state_num) - np.outer(self.v_c[:,self.g00], np.conjugate((self.v_c[:,self.g00])))\n",
    "                Ct_c= Ct_c - np.outer(self.v_c[:,self.e00], np.conjugate((self.v_c[:,self.e00])))\n",
    "                Ct_c= Ct_c + np.outer(self.v_c[:,self.e00], np.conjugate((self.v_c[:,self.g00])))\n",
    "                Ct_c= Ct_c + np.outer(self.v_c[:,self.g00], np.conjugate((self.v_c[:,self.e00])))\n",
    "            else:\n",
    "                Ut_c = la.expm((0-1j)*self.total_time*self.H0_c)\n",
    "                Ct_c = Ut_c.copy()\n",
    "\n",
    "                Ct_c[self.e00,self.g00] = 1\n",
    "                Ct_c[self.g00,self.e00] = 1\n",
    "                Ct_c[self.g00,self.g00] = 0\n",
    "                Ct_c[self.e00,self.e00] = 0\n",
    "            \n",
    "\n",
    "            self.initial_state = self.identity\n",
    "            self.target_state = CtoRMat(Ct_c)"
   ]
  },
  {
   "cell_type": "code",
   "execution_count": 4,
   "metadata": {
    "collapsed": true
   },
   "outputs": [],
   "source": [
    "if simulation_system == \"two_modes_cnot\":\n",
    "    class SystemParameters(SystemParametersGeneral):\n",
    "        \n",
    "        def __init__(self):\n",
    "            total_time = 30\n",
    "            SystemParametersGeneral.__init__(self,total_time, Modulation, Interpolation, D)\n",
    "            self.init_states()\n",
    "            \n",
    "            \n",
    "        def init_states(self):\n",
    "            # concerned states\n",
    "            self.g00=Get_State_index(0,self.dressed)\n",
    "            self.g01=Get_State_index(1,self.dressed)\n",
    "            self.g10=Get_State_index(self.mode_state_num,self.dressed)\n",
    "            self.g11=Get_State_index(self.mode_state_num+1,self.dressed)\n",
    "            self.states_concerned_list = [0,1,self.mode_state_num,self.mode_state_num+1] #g00,g01,g10,g11\n",
    "            self.init_vectors()\n",
    "            self.init_operators()\n",
    "            \n",
    "            # Initialize initial and target states in numpy vector           \n",
    "            if D:\n",
    "                Ct_c= np.identity(self.state_num) - np.outer(self.v_c[:,self.g11], np.conjugate((self.v_c[:,self.g11])))\n",
    "                Ct_c= Ct_c - np.outer(self.v_c[:,self.g10], np.conjugate((self.v_c[:,self.g10])))\n",
    "                Ct_c= Ct_c + np.outer(self.v_c[:,self.g11], np.conjugate((self.v_c[:,self.g10])))\n",
    "                Ct_c= Ct_c + np.outer(self.v_c[:,self.g10], np.conjugate((self.v_c[:,self.g11])))\n",
    "            else:\n",
    "                Ut_c = la.expm((0-1j)*self.total_time*self.H0_c)\n",
    "                Ct_c = Ut_c.copy()\n",
    "            \n",
    "                Ct_c[self.g11,self.g10] = 1\n",
    "                Ct_c[self.g10,self.g11] = 1\n",
    "                Ct_c[self.g11,self.g11] = 0\n",
    "                Ct_c[self.g10,self.g10] = 0\n",
    "            \n",
    "            self.initial_state = self.identity\n",
    "            self.target_state = CtoRMat(Ct_c)\n",
    "            "
   ]
  },
  {
   "cell_type": "code",
   "execution_count": 5,
   "metadata": {
    "collapsed": true
   },
   "outputs": [],
   "source": [
    "sys_para = SystemParameters()"
   ]
  },
  {
   "cell_type": "code",
   "execution_count": 6,
   "metadata": {
    "collapsed": false
   },
   "outputs": [
    {
     "name": "stdout",
     "output_type": "stream",
     "text": [
      "Building graph:\n",
      "State initialized.\n",
      "Operators initialized.\n",
      "Operators weight initialized.\n",
      "One Trajectory done\n",
      "Training loss initialized.\n",
      "Optimizer initialized.\n",
      "Utilities initialized.\n",
      "Graph built!\n"
     ]
    }
   ],
   "source": [
    "with tf.device('/gpu:0'):\n",
    "    tfs = TensorflowState(sys_para)\n",
    "    graph = tfs.build_graph()"
   ]
  },
  {
   "cell_type": "code",
   "execution_count": null,
   "metadata": {
    "collapsed": false
   },
   "outputs": [],
   "source": [
    "class Convergence(ConvergenceGeneral):\n",
    "\n",
    "        \n",
    "    def __init__(self):\n",
    "        # paramters\n",
    "        self.sys_para = SystemParameters()\n",
    "        self.Modulation = Modulation\n",
    "        self.Interpolation = Interpolation\n",
    "        self.rate = 0.01\n",
    "        self.update_step = 10\n",
    "        self.conv_target = 1e-8\n",
    "        self.max_iterations = 5000\n",
    "        \n",
    "        self.learning_rate_decay = self.max_iterations/2\n",
    "        \n",
    "        self.reg_alpha_coeff = 0.01\n",
    "        \n",
    "        self.z_reg_alpha_coeff = 0.01\n",
    "        \n",
    "        self.dwdt_reg_alpha_coeff = 0.0001\n",
    "        self.d2wdt2_reg_alpha_coeff = 0.001*0.0001\n",
    "        \n",
    "        self.inter_reg_alpha_coeff = 100.0\n",
    "        \n",
    "        self.reset_convergence()\n",
    "conv = Convergence()"
   ]
  },
  {
   "cell_type": "code",
   "execution_count": null,
   "metadata": {
    "collapsed": false,
    "scrolled": false
   },
   "outputs": [],
   "source": [
    "try:\n",
    "    run_session(tfs,graph,conv,sys_para)\n",
    "except KeyboardInterrupt:\n",
    "    display.clear_output()"
   ]
  },
  {
   "cell_type": "code",
   "execution_count": null,
   "metadata": {
    "collapsed": true
   },
   "outputs": [],
   "source": []
  }
 ],
 "metadata": {
  "kernelspec": {
   "display_name": "Python 2",
   "language": "python",
   "name": "python2"
  },
  "language_info": {
   "codemirror_mode": {
    "name": "ipython",
    "version": 2
   },
   "file_extension": ".py",
   "mimetype": "text/x-python",
   "name": "python",
   "nbconvert_exporter": "python",
   "pygments_lexer": "ipython2",
   "version": "2.7.6"
  }
 },
 "nbformat": 4,
 "nbformat_minor": 0
}
